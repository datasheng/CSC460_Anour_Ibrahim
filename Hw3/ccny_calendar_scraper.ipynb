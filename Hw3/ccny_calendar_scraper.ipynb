{
  "cells": [
    {
      "cell_type": "markdown",
      "metadata": {},
      "source": [
        "# CCNY Calendar Scraper\n",
        "\n",
        "This notebook will scrape the CCNY Fall 2021 academic calendar.\n"
      ]
    },
    {
      "cell_type": "code",
      "execution_count": 135,
      "metadata": {},
      "outputs": [],
      "source": [
        "\n",
        "import requests\n",
        "from bs4 import BeautifulSoup\n",
        "import pandas as pd\n"
      ]
    },
    {
      "cell_type": "code",
      "execution_count": 136,
      "metadata": {},
      "outputs": [],
      "source": [
        "\n",
        "url = \"https://www.ccny.cuny.edu/registrar/fall\"\n",
        "response = requests.get(url)\n",
        "html_content = response.text\n"
      ]
    },
    {
      "cell_type": "code",
      "execution_count": 137,
      "metadata": {},
      "outputs": [],
      "source": [
        "soup = BeautifulSoup(html_content, 'html.parser')\n",
        "soup.prettify()\n",
        "table = soup.find_all(\"table\")[0]\n",
        "rows = soup.find_all(\"tr\")\n"
      ]
    },
    {
      "cell_type": "code",
      "execution_count": 138,
      "metadata": {},
      "outputs": [],
      "source": [
        "data = {\n",
        "    \"date\": [],\n",
        "    \"dow\": [],  \n",
        "    \"text\": [],\n",
        "}\n"
      ]
    },
    {
      "cell_type": "code",
      "execution_count": 139,
      "metadata": {},
      "outputs": [],
      "source": [
        "# Loop through table rows and extract data\n",
        "for tr in rows:\n",
        "    tds = tr.find_all(\"td\")\n",
        "    if len(tds) >= 3:\n",
        "        date_text = tds[0].get_text(strip=True)\n",
        "        dow_text = tds[1].get_text(strip=True)\n",
        "        event_text = tds[2].get_text(strip=True)\n",
        "        \n",
        "        # Add to data dictionary\n",
        "        data[\"date\"].append(date_text)\n",
        "        data[\"dow\"].append(dow_text)\n",
        "        data[\"text\"].append(event_text)\n"
      ]
    },
    {
      "cell_type": "code",
      "execution_count": 140,
      "metadata": {},
      "outputs": [
        {
          "name": "stdout",
          "output_type": "stream",
          "text": [
            "Number of rows collected: 36\n",
            "First few dates: ['August 01', 'August 18', 'August 24']\n",
            "First few dow: ['Sunday', 'Wednesday', 'Tuesday']\n",
            "First few text: ['Application for degree for January and February 2022 begins', 'Last day to apply for Study Abroad', 'Last day of Registration;Last day to file ePermit for the Fall 2021;Last day to drop classes for 100% tuition refund;']\n"
          ]
        }
      ],
      "source": [
        "\n",
        "\n",
        "print(f\"Number of rows collected: {len(data['date'])}\")\n",
        "if len(data['date']) > 0:\n",
        "    print(f\"First few dates: {data['date'][:3]}\")\n",
        "    print(f\"First few dow: {data['dow'][:3]}\")\n",
        "    print(f\"First few text: {data['text'][:3]}\")\n",
        "else:\n",
        "    print(\"No data collected - checking table structure...\")\n",
        "    print(f\"Number of rows found: {len(rows)}\")\n",
        "    if len(rows) > 0:\n",
        "        print(\"First row cells:\")\n",
        "        first_row = rows[0].find_all(\"td\")\n",
        "        for i, cell in enumerate(first_row):\n",
        "            print(f\"  Cell {i}: {cell.get_text(strip=True)}\")"
      ]
    },
    {
      "cell_type": "code",
      "execution_count": 141,
      "metadata": {},
      "outputs": [],
      "source": [
        "df = pd.DataFrame(data)\n",
        "df['date'] = df['date'].str.split(' - ').str[0] + ', 2021'\n",
        "df['date'] = pd.to_datetime(df['date'], format='mixed')\n",
        "df.set_index('date', inplace=True)\n"
      ]
    },
    {
      "cell_type": "code",
      "execution_count": 142,
      "metadata": {},
      "outputs": [
        {
          "name": "stdout",
          "output_type": "stream",
          "text": [
            "DataFrame shape: (36, 2)\n",
            "DataFrame columns: ['dow', 'text']\n",
            "DataFrame index type: <class 'pandas.core.indexes.datetimes.DatetimeIndex'>\n"
          ]
        }
      ],
      "source": [
        "# Check if DataFrame was created successfully\n",
        "print(f\"DataFrame shape: {df.shape}\")\n",
        "print(f\"DataFrame columns: {df.columns.tolist()}\")\n",
        "print(f\"DataFrame index type: {type(df.index)}\")"
      ]
    },
    {
      "cell_type": "code",
      "execution_count": 144,
      "metadata": {},
      "outputs": [],
      "source": [
        "df.to_csv('ccny_fall_2021_calendar.csv')"
      ]
    },
    {
      "cell_type": "code",
      "execution_count": 148,
      "metadata": {},
      "outputs": [
        {
          "data": {
            "text/html": [
              "<div>\n",
              "<style scoped>\n",
              "    .dataframe tbody tr th:only-of-type {\n",
              "        vertical-align: middle;\n",
              "    }\n",
              "\n",
              "    .dataframe tbody tr th {\n",
              "        vertical-align: top;\n",
              "    }\n",
              "\n",
              "    .dataframe thead th {\n",
              "        text-align: right;\n",
              "    }\n",
              "</style>\n",
              "<table border=\"1\" class=\"dataframe\">\n",
              "  <thead>\n",
              "    <tr style=\"text-align: right;\">\n",
              "      <th></th>\n",
              "      <th>dow</th>\n",
              "      <th>text</th>\n",
              "    </tr>\n",
              "    <tr>\n",
              "      <th>date</th>\n",
              "      <th></th>\n",
              "      <th></th>\n",
              "    </tr>\n",
              "  </thead>\n",
              "  <tbody>\n",
              "    <tr>\n",
              "      <th>2021-08-01</th>\n",
              "      <td>Sunday</td>\n",
              "      <td>Application for degree for January and Februar...</td>\n",
              "    </tr>\n",
              "    <tr>\n",
              "      <th>2021-08-18</th>\n",
              "      <td>Wednesday</td>\n",
              "      <td>Last day to apply for Study Abroad</td>\n",
              "    </tr>\n",
              "    <tr>\n",
              "      <th>2021-08-24</th>\n",
              "      <td>Tuesday</td>\n",
              "      <td>Last day of Registration;Last day to file ePer...</td>\n",
              "    </tr>\n",
              "    <tr>\n",
              "      <th>2021-08-25</th>\n",
              "      <td>Wednesday</td>\n",
              "      <td>Start of Fall Term;Classes begin;Initial Regis...</td>\n",
              "    </tr>\n",
              "    <tr>\n",
              "      <th>2021-08-25</th>\n",
              "      <td>Wednesday - Tuesday</td>\n",
              "      <td>Change of program period; late fees apply</td>\n",
              "    </tr>\n",
              "    <tr>\n",
              "      <th>2021-08-26</th>\n",
              "      <td>Thursday</td>\n",
              "      <td>Last day for Independent Study</td>\n",
              "    </tr>\n",
              "    <tr>\n",
              "      <th>2021-08-28</th>\n",
              "      <td>Saturday</td>\n",
              "      <td>First day of Saturday Classes</td>\n",
              "    </tr>\n",
              "    <tr>\n",
              "      <th>2021-08-31</th>\n",
              "      <td>Tuesday</td>\n",
              "      <td>Last day to add a class to an existing enrollm...</td>\n",
              "    </tr>\n",
              "    <tr>\n",
              "      <th>2021-09-01</th>\n",
              "      <td>Wednesday</td>\n",
              "      <td>Verification of Enrollment rosters available t...</td>\n",
              "    </tr>\n",
              "    <tr>\n",
              "      <th>2021-09-03</th>\n",
              "      <td>Friday - Wednesday</td>\n",
              "      <td>No classes scheduled</td>\n",
              "    </tr>\n",
              "    <tr>\n",
              "      <th>2021-09-06</th>\n",
              "      <td>Monday</td>\n",
              "      <td>College Closed;Last day for 50% tuition refund;</td>\n",
              "    </tr>\n",
              "    <tr>\n",
              "      <th>2021-09-09</th>\n",
              "      <td>Thursday</td>\n",
              "      <td>Freshman Convocation</td>\n",
              "    </tr>\n",
              "    <tr>\n",
              "      <th>2021-09-14</th>\n",
              "      <td>Tuesday</td>\n",
              "      <td>Last day for 25% tuition refund;Census date;La...</td>\n",
              "    </tr>\n",
              "    <tr>\n",
              "      <th>2021-09-15</th>\n",
              "      <td>Wednesday</td>\n",
              "      <td>Assignment of 'WN' grades for non-attendance;C...</td>\n",
              "    </tr>\n",
              "    <tr>\n",
              "      <th>2021-09-15</th>\n",
              "      <td>Wednesday - Thursday</td>\n",
              "      <td>No classes scheduled</td>\n",
              "    </tr>\n",
              "    <tr>\n",
              "      <th>2021-09-23</th>\n",
              "      <td>Thursday</td>\n",
              "      <td>Last day to submit proof of immunization for N...</td>\n",
              "    </tr>\n",
              "    <tr>\n",
              "      <th>2021-09-24</th>\n",
              "      <td>Friday</td>\n",
              "      <td>Assignment of 'WA' grades for immunization non...</td>\n",
              "    </tr>\n",
              "    <tr>\n",
              "      <th>2021-10-01</th>\n",
              "      <td>Friday</td>\n",
              "      <td>Advising month begins for Spring and Winter en...</td>\n",
              "    </tr>\n",
              "    <tr>\n",
              "      <th>2021-10-08</th>\n",
              "      <td>Friday</td>\n",
              "      <td>Deadline for filing application for degree for...</td>\n",
              "    </tr>\n",
              "    <tr>\n",
              "      <th>2021-10-11</th>\n",
              "      <td>Monday</td>\n",
              "      <td>College Closed</td>\n",
              "    </tr>\n",
              "  </tbody>\n",
              "</table>\n",
              "</div>"
            ],
            "text/plain": [
              "                             dow  \\\n",
              "date                               \n",
              "2021-08-01                Sunday   \n",
              "2021-08-18             Wednesday   \n",
              "2021-08-24               Tuesday   \n",
              "2021-08-25             Wednesday   \n",
              "2021-08-25   Wednesday - Tuesday   \n",
              "2021-08-26              Thursday   \n",
              "2021-08-28              Saturday   \n",
              "2021-08-31               Tuesday   \n",
              "2021-09-01             Wednesday   \n",
              "2021-09-03    Friday - Wednesday   \n",
              "2021-09-06                Monday   \n",
              "2021-09-09              Thursday   \n",
              "2021-09-14               Tuesday   \n",
              "2021-09-15             Wednesday   \n",
              "2021-09-15  Wednesday - Thursday   \n",
              "2021-09-23              Thursday   \n",
              "2021-09-24                Friday   \n",
              "2021-10-01                Friday   \n",
              "2021-10-08                Friday   \n",
              "2021-10-11                Monday   \n",
              "\n",
              "                                                         text  \n",
              "date                                                           \n",
              "2021-08-01  Application for degree for January and Februar...  \n",
              "2021-08-18                 Last day to apply for Study Abroad  \n",
              "2021-08-24  Last day of Registration;Last day to file ePer...  \n",
              "2021-08-25  Start of Fall Term;Classes begin;Initial Regis...  \n",
              "2021-08-25          Change of program period; late fees apply  \n",
              "2021-08-26                     Last day for Independent Study  \n",
              "2021-08-28                      First day of Saturday Classes  \n",
              "2021-08-31  Last day to add a class to an existing enrollm...  \n",
              "2021-09-01  Verification of Enrollment rosters available t...  \n",
              "2021-09-03                               No classes scheduled  \n",
              "2021-09-06    College Closed;Last day for 50% tuition refund;  \n",
              "2021-09-09                               Freshman Convocation  \n",
              "2021-09-14  Last day for 25% tuition refund;Census date;La...  \n",
              "2021-09-15  Assignment of 'WN' grades for non-attendance;C...  \n",
              "2021-09-15                               No classes scheduled  \n",
              "2021-09-23  Last day to submit proof of immunization for N...  \n",
              "2021-09-24  Assignment of 'WA' grades for immunization non...  \n",
              "2021-10-01  Advising month begins for Spring and Winter en...  \n",
              "2021-10-08  Deadline for filing application for degree for...  \n",
              "2021-10-11                                     College Closed  "
            ]
          },
          "execution_count": 148,
          "metadata": {},
          "output_type": "execute_result"
        }
      ],
      "source": [
        "df.head(20)"
      ]
    }
  ],
  "metadata": {
    "kernelspec": {
      "display_name": "base",
      "language": "python",
      "name": "python3"
    },
    "language_info": {
      "codemirror_mode": {
        "name": "ipython",
        "version": 3
      },
      "file_extension": ".py",
      "mimetype": "text/x-python",
      "name": "python",
      "nbconvert_exporter": "python",
      "pygments_lexer": "ipython3",
      "version": "3.13.5"
    }
  },
  "nbformat": 4,
  "nbformat_minor": 2
}
