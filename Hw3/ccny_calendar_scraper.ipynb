{
  "cells": [
    {
      "cell_type": "markdown",
      "metadata": {},
      "source": [
        "# CCNY Calendar Scraper\n",
        "\n",
        "This notebook will scrape the CCNY Fall 2021 academic calendar.\n"
      ]
    },
    {
      "cell_type": "code",
      "execution_count": 135,
      "metadata": {},
      "outputs": [],
      "source": [
        "\n",
        "import requests\n",
        "from bs4 import BeautifulSoup\n",
        "import pandas as pd\n"
      ]
    },
    {
      "cell_type": "code",
      "execution_count": 136,
      "metadata": {},
      "outputs": [],
      "source": [
        "\n",
        "url = \"https://www.ccny.cuny.edu/registrar/fall\"\n",
        "response = requests.get(url)\n",
        "html_content = response.text\n"
      ]
    },
    {
      "cell_type": "code",
      "execution_count": 137,
      "metadata": {},
      "outputs": [],
      "source": [
        "soup = BeautifulSoup(html_content, 'html.parser')\n",
        "soup.prettify()\n",
        "table = soup.find_all(\"table\")[0]\n",
        "rows = soup.find_all(\"tr\")\n"
      ]
    },
    {
      "cell_type": "code",
      "execution_count": 138,
      "metadata": {},
      "outputs": [],
      "source": [
        "data = {\n",
        "    \"date\": [],\n",
        "    \"dow\": [],  \n",
        "    \"text\": [],\n",
        "}\n"
      ]
    },
    {
      "cell_type": "code",
      "execution_count": 139,
      "metadata": {},
      "outputs": [],
      "source": [
        "# Loop through table rows and extract data\n",
        "for tr in rows:\n",
        "    tds = tr.find_all(\"td\")\n",
        "    if len(tds) >= 3:\n",
        "        date_text = tds[0].get_text(strip=True)\n",
        "        dow_text = tds[1].get_text(strip=True)\n",
        "        event_text = tds[2].get_text(strip=True)\n",
        "        \n",
        "        # Add to data dictionary\n",
        "        data[\"date\"].append(date_text)\n",
        "        data[\"dow\"].append(dow_text)\n",
        "        data[\"text\"].append(event_text)\n"
      ]
    },
    {
      "cell_type": "code",
      "execution_count": 140,
      "metadata": {},
      "outputs": [
        {
          "name": "stdout",
          "output_type": "stream",
          "text": [
            "Number of rows collected: 36\n",
            "First few dates: ['August 01', 'August 18', 'August 24']\n",
            "First few dow: ['Sunday', 'Wednesday', 'Tuesday']\n",
            "First few text: ['Application for degree for January and February 2022 begins', 'Last day to apply for Study Abroad', 'Last day of Registration;Last day to file ePermit for the Fall 2021;Last day to drop classes for 100% tuition refund;']\n"
          ]
        }
      ],
      "source": [
        "\n",
        "\n",
        "print(f\"Number of rows collected: {len(data['date'])}\")\n",
        "if len(data['date']) > 0:\n",
        "    print(f\"First few dates: {data['date'][:3]}\")\n",
        "    print(f\"First few dow: {data['dow'][:3]}\")\n",
        "    print(f\"First few text: {data['text'][:3]}\")\n",
        "else:\n",
        "    print(\"No data collected - checking table structure...\")\n",
        "    print(f\"Number of rows found: {len(rows)}\")\n",
        "    if len(rows) > 0:\n",
        "        print(\"First row cells:\")\n",
        "        first_row = rows[0].find_all(\"td\")\n",
        "        for i, cell in enumerate(first_row):\n",
        "            print(f\"  Cell {i}: {cell.get_text(strip=True)}\")"
      ]
    },
    {
      "cell_type": "code",
      "execution_count": 141,
      "metadata": {},
      "outputs": [],
      "source": [
        "df = pd.DataFrame(data)\n",
        "df['date'] = df['date'].str.split(' - ').str[0] + ', 2021'\n",
        "df['date'] = pd.to_datetime(df['date'], format='mixed')\n",
        "df.set_index('date', inplace=True)\n"
      ]
    },
    {
      "cell_type": "code",
      "execution_count": 142,
      "metadata": {},
      "outputs": [
        {
          "name": "stdout",
          "output_type": "stream",
          "text": [
            "DataFrame shape: (36, 2)\n",
            "DataFrame columns: ['dow', 'text']\n",
            "DataFrame index type: <class 'pandas.core.indexes.datetimes.DatetimeIndex'>\n"
          ]
        }
      ],
      "source": [
        "# Check if DataFrame was created successfully\n",
        "print(f\"DataFrame shape: {df.shape}\")\n",
        "print(f\"DataFrame columns: {df.columns.tolist()}\")\n",
        "print(f\"DataFrame index type: {type(df.index)}\")"
      ]
    }
  ],
  "metadata": {
    "kernelspec": {
      "display_name": "base",
      "language": "python",
      "name": "python3"
    },
    "language_info": {
      "codemirror_mode": {
        "name": "ipython",
        "version": 3
      },
      "file_extension": ".py",
      "mimetype": "text/x-python",
      "name": "python",
      "nbconvert_exporter": "python",
      "pygments_lexer": "ipython3",
      "version": "3.13.5"
    }
  },
  "nbformat": 4,
  "nbformat_minor": 2
}
