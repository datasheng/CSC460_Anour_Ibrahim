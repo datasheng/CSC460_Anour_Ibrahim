{
  "cells": [
    {
      "cell_type": "markdown",
      "metadata": {},
      "source": [
        "# CCNY Calendar Scraper\n",
        "\n",
        "This notebook will scrape the CCNY Fall 2021 academic calendar and create a pandas DataFrame with:\n",
        "- Index: Python date objects\n",
        "- Column 'dow': Day of the week  \n",
        "- Column 'text': Calendar event descriptions\n",
        "\n",
        "We'll use the requests library, BeautifulSoup, and pandas to accomplish this task.\n"
      ]
    }
  ],
  "metadata": {
    "kernelspec": {
      "display_name": "base",
      "language": "python",
      "name": "python3"
    },
    "language_info": {
      "name": "python",
      "version": "3.13.5"
    }
  },
  "nbformat": 4,
  "nbformat_minor": 2
}
